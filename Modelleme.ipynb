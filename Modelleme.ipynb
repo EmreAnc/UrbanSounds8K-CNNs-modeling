{
  "nbformat": 4,
  "nbformat_minor": 0,
  "metadata": {
    "colab": {
      "provenance": [],
      "collapsed_sections": []
    },
    "kernelspec": {
      "name": "python3",
      "display_name": "Python 3"
    },
    "language_info": {
      "name": "python"
    },
    "accelerator": "GPU"
  },
  "cells": [
    {
      "cell_type": "code",
      "source": [
        "\n",
        "import numpy as np\n",
        "import tensorflow as tf\n",
        "import matplotlib.pyplot as plt\n",
        "from keras.models import Sequential\n",
        "from keras.layers import Dense, Dropout, Activation, Flatten\n",
        "from keras.layers import Conv2D, MaxPooling2D"
      ],
      "metadata": {
        "id": "LooRZMRRJBr-"
      },
      "execution_count": 1,
      "outputs": []
    },
    {
      "cell_type": "code",
      "source": [
        "\n",
        "!nvidia-smi -L"
      ],
      "metadata": {
        "colab": {
          "base_uri": "https://localhost:8080/"
        },
        "id": "aVgjtC6cTy_K",
        "outputId": "f0b7a6a6-bc6f-48db-ac0d-2e7c1db7ac37"
      },
      "execution_count": 2,
      "outputs": [
        {
          "output_type": "stream",
          "name": "stdout",
          "text": [
            "GPU 0: Tesla T4 (UUID: GPU-ad37e6af-7d2b-eb5b-5079-8c9e5c7cfa12)\n"
          ]
        }
      ]
    },
    {
      "cell_type": "code",
      "source": [
        "\n",
        "from google.colab import drive\n",
        "drive.mount('/content/drive')"
      ],
      "metadata": {
        "colab": {
          "base_uri": "https://localhost:8080/"
        },
        "id": "_d9GNdQTIFyJ",
        "outputId": "993fc761-97ba-43a8-ff71-e149c7d3dbb9"
      },
      "execution_count": 3,
      "outputs": [
        {
          "output_type": "stream",
          "name": "stdout",
          "text": [
            "Mounted at /content/drive\n"
          ]
        }
      ]
    },
    {
      "cell_type": "code",
      "execution_count": 84,
      "metadata": {
        "id": "gf8ugKOsITPY"
      },
      "outputs": [],
      "source": [
        "train_path=\"/content/drive/MyDrive/spectrograms_train_files/\"\n",
        "\n",
        "with open(f\"{train_path}X_train.npy\", \"rb\") as f:\n",
        "  X_train = np.load(f)\n",
        "\n",
        "with open(f\"{train_path}y_train.npy\", \"rb\") as f:\n",
        "  y_train = np.load(f)\n",
        "\n",
        "with open(f\"{train_path}X_test.npy\", \"rb\") as f:\n",
        "  X_test = np.load(f)\n",
        "\n",
        "with open(f\"{train_path}y_test.npy\", \"rb\") as f:\n",
        "  y_test = np.load(f)\n",
        "\n",
        "with open(f\"{train_path}X_val.npy\", \"rb\") as f:\n",
        "  X_val = np.load(f)\n",
        "  \n",
        "with open(f\"{train_path}y_val.npy\", \"rb\") as f:\n",
        "  y_val = np.load(f)"
      ]
    },
    {
      "cell_type": "code",
      "source": [
        "num_classes = 10\n",
        "y_train = tf.keras.utils.to_categorical(y_train, num_classes)\n",
        "y_test = tf.keras.utils.to_categorical(y_test, num_classes)\n",
        "y_val = tf.keras.utils.to_categorical(y_val, num_classes)"
      ],
      "metadata": {
        "id": "lwBW2-PpPr_M"
      },
      "execution_count": 85,
      "outputs": []
    },
    {
      "cell_type": "code",
      "source": [
        "model = Sequential()\n",
        "model.add(Conv2D(32, (3, 3), padding='same',\n",
        "                 input_shape=(32, 32, 1)))\n",
        "model.add(Activation('relu'))\n",
        "model.add(Conv2D(32, (3, 3)))\n",
        "model.add(Activation('relu'))\n",
        "model.add(MaxPooling2D(pool_size=(2, 2)))\n",
        "model.add(Dropout(0.2))\n",
        "\n",
        "model.add(Conv2D(64, (3, 3), padding='same'))\n",
        "model.add(Activation('relu'))\n",
        "model.add(Conv2D(64, (3, 3)))\n",
        "model.add(Activation('relu'))\n",
        "model.add(MaxPooling2D(pool_size=(2, 2)))\n",
        "model.add(Dropout(0.2))\n",
        "\n",
        "model.add(Flatten())\n",
        "model.add(Dense(512))\n",
        "model.add(Activation('relu'))\n",
        "model.add(Dropout(0.6))\n",
        "model.add(Dense(num_classes))\n",
        "model.add(Activation('softmax'))\n",
        "\n",
        "model.compile(loss='categorical_crossentropy',\n",
        "              optimizer='adam',\n",
        "              metrics=['accuracy'])"
      ],
      "metadata": {
        "id": "OHetuojcS-2_"
      },
      "execution_count": 86,
      "outputs": []
    },
    {
      "cell_type": "code",
      "source": [
        "results_history = model.fit(X_train, y_train, epochs=20, validation_data=(X_val, y_val))"
      ],
      "metadata": {
        "colab": {
          "base_uri": "https://localhost:8080/"
        },
        "id": "0SGAa1mWLVoB",
        "outputId": "c059044b-e377-45ac-b36d-920b3c07deb1"
      },
      "execution_count": 87,
      "outputs": [
        {
          "output_type": "stream",
          "name": "stdout",
          "text": [
            "Epoch 1/20\n",
            "164/164 [==============================] - 2s 7ms/step - loss: 1.7380 - accuracy: 0.3736 - val_loss: 1.2363 - val_accuracy: 0.6005\n",
            "Epoch 2/20\n",
            "164/164 [==============================] - 1s 6ms/step - loss: 1.2189 - accuracy: 0.5790 - val_loss: 0.9874 - val_accuracy: 0.6348\n",
            "Epoch 3/20\n",
            "164/164 [==============================] - 1s 6ms/step - loss: 0.9974 - accuracy: 0.6575 - val_loss: 0.8664 - val_accuracy: 0.6875\n",
            "Epoch 4/20\n",
            "164/164 [==============================] - 1s 6ms/step - loss: 0.8300 - accuracy: 0.7132 - val_loss: 0.7546 - val_accuracy: 0.7567\n",
            "Epoch 5/20\n",
            "164/164 [==============================] - 1s 6ms/step - loss: 0.7411 - accuracy: 0.7455 - val_loss: 0.6499 - val_accuracy: 0.7888\n",
            "Epoch 6/20\n",
            "164/164 [==============================] - 1s 6ms/step - loss: 0.6252 - accuracy: 0.7931 - val_loss: 0.6050 - val_accuracy: 0.7991\n",
            "Epoch 7/20\n",
            "164/164 [==============================] - 1s 5ms/step - loss: 0.5644 - accuracy: 0.8024 - val_loss: 0.5653 - val_accuracy: 0.8168\n",
            "Epoch 8/20\n",
            "164/164 [==============================] - 1s 5ms/step - loss: 0.5075 - accuracy: 0.8261 - val_loss: 0.5668 - val_accuracy: 0.8077\n",
            "Epoch 9/20\n",
            "164/164 [==============================] - 1s 6ms/step - loss: 0.4527 - accuracy: 0.8482 - val_loss: 0.5504 - val_accuracy: 0.8237\n",
            "Epoch 10/20\n",
            "164/164 [==============================] - 1s 6ms/step - loss: 0.3961 - accuracy: 0.8658 - val_loss: 0.4913 - val_accuracy: 0.8363\n",
            "Epoch 11/20\n",
            "164/164 [==============================] - 1s 6ms/step - loss: 0.3687 - accuracy: 0.8771 - val_loss: 0.4812 - val_accuracy: 0.8386\n",
            "Epoch 12/20\n",
            "164/164 [==============================] - 1s 5ms/step - loss: 0.3097 - accuracy: 0.8931 - val_loss: 0.5155 - val_accuracy: 0.8437\n",
            "Epoch 13/20\n",
            "164/164 [==============================] - 1s 6ms/step - loss: 0.2947 - accuracy: 0.8942 - val_loss: 0.5398 - val_accuracy: 0.8449\n",
            "Epoch 14/20\n",
            "164/164 [==============================] - 1s 6ms/step - loss: 0.2767 - accuracy: 0.9051 - val_loss: 0.4726 - val_accuracy: 0.8603\n",
            "Epoch 15/20\n",
            "164/164 [==============================] - 1s 5ms/step - loss: 0.2233 - accuracy: 0.9227 - val_loss: 0.4791 - val_accuracy: 0.8586\n",
            "Epoch 16/20\n",
            "164/164 [==============================] - 1s 6ms/step - loss: 0.2147 - accuracy: 0.9248 - val_loss: 0.4661 - val_accuracy: 0.8643\n",
            "Epoch 17/20\n",
            "164/164 [==============================] - 1s 6ms/step - loss: 0.2153 - accuracy: 0.9282 - val_loss: 0.4777 - val_accuracy: 0.8620\n",
            "Epoch 18/20\n",
            "164/164 [==============================] - 1s 6ms/step - loss: 0.1857 - accuracy: 0.9341 - val_loss: 0.5440 - val_accuracy: 0.8477\n",
            "Epoch 19/20\n",
            "164/164 [==============================] - 1s 5ms/step - loss: 0.1596 - accuracy: 0.9448 - val_loss: 0.5022 - val_accuracy: 0.8563\n",
            "Epoch 20/20\n",
            "164/164 [==============================] - 1s 6ms/step - loss: 0.1391 - accuracy: 0.9565 - val_loss: 0.5078 - val_accuracy: 0.8563\n"
          ]
        }
      ]
    },
    {
      "cell_type": "code",
      "source": [
        "plt.plot(results_history.history['accuracy'], label='accuracy')\n",
        "plt.plot(results_history.history['val_accuracy'], label = 'val_accuracy')\n",
        "plt.xlabel('Epoch')\n",
        "plt.ylabel('Accuracy')\n",
        "plt.ylim([0.5, 1])\n",
        "plt.legend(loc='lower right')"
      ],
      "metadata": {
        "colab": {
          "base_uri": "https://localhost:8080/",
          "height": 300
        },
        "id": "bPR-SjC1NCQd",
        "outputId": "9026a4dd-2980-4aad-e9c0-b1119ab8d1ce"
      },
      "execution_count": 88,
      "outputs": [
        {
          "output_type": "execute_result",
          "data": {
            "text/plain": [
              "<matplotlib.legend.Legend at 0x7fb10e3b5550>"
            ]
          },
          "metadata": {},
          "execution_count": 88
        },
        {
          "output_type": "display_data",
          "data": {
            "text/plain": [
              "<Figure size 432x288 with 1 Axes>"
            ],
            "image/png": "[encoded data removed]"
          },
          "metadata": {
            "needs_background": "light"
          }
        }
      ]
    },
    {
      "cell_type": "code",
      "source": [
        "test_loss, test_acc = model.evaluate(X_test, y_test, verbose=2)"
      ],
      "metadata": {
        "id": "RJbqQYvIPD2H",
        "colab": {
          "base_uri": "https://localhost:8080/"
        },
        "outputId": "546a1014-63f0-4ec5-b9fc-d63e987e0be0"
      },
      "execution_count": 89,
      "outputs": [
        {
          "output_type": "stream",
          "name": "stdout",
          "text": [
            "55/55 - 0s - loss: 0.6208 - accuracy: 0.8529 - 161ms/epoch - 3ms/step\n"
          ]
        }
      ]
    }
  ]
}